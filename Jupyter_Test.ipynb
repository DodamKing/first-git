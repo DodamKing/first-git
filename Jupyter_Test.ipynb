{
 "cells": [
  {
   "cell_type": "markdown",
   "id": "ec9d5c4a",
   "metadata": {},
   "source": [
    "## Hello World 출력!!\n",
    "프린트 함수로 Hello World 출력 해보기"
   ]
  },
  {
   "cell_type": "code",
   "execution_count": 2,
   "id": "ee556310",
   "metadata": {},
   "outputs": [
    {
     "name": "stdout",
     "output_type": "stream",
     "text": [
      "Hello World!!\n"
     ]
    }
   ],
   "source": [
    "print('Hello World!!')"
   ]
  },
  {
   "cell_type": "markdown",
   "id": "d332de34",
   "metadata": {},
   "source": [
    "### 업다운게임 코드 복습\n",
    "테스트용"
   ]
  },
  {
   "cell_type": "code",
   "execution_count": 2,
   "id": "afc9fad4",
   "metadata": {},
   "outputs": [
    {
     "name": "stdout",
     "output_type": "stream",
     "text": [
      "8\n"
     ]
    }
   ],
   "source": [
    "from random import *\n",
    "\n",
    "answer = randint(1, 50)\n",
    "\n",
    "print(answer)"
   ]
  },
  {
   "cell_type": "code",
   "execution_count": 6,
   "id": "173a727a",
   "metadata": {},
   "outputs": [
    {
     "name": "stdout",
     "output_type": "stream",
     "text": [
      "25\n",
      "25 DOWN\n",
      "15\n",
      "15 DOWN\n",
      "7\n",
      "7 UP\n",
      "10\n",
      "10 DOWN\n",
      "8\n",
      "8 정답입니다.\n"
     ]
    }
   ],
   "source": [
    "while True:\n",
    "    try:\n",
    "        x = int(input()) # 입력\n",
    "        if answer == x:\n",
    "            print('{} 정답입니다.'.format(x))\n",
    "            break\n",
    "        elif answer > x:\n",
    "            print('{} UP'.format(x))\n",
    "        else:\n",
    "            print('{} DOWN'.format(x))\n",
    "            \n",
    "    except:\n",
    "        print('1 ~ 50 사이에 숫자를 입력하세요.')\n",
    "        "
   ]
  },
  {
   "cell_type": "code",
   "execution_count": null,
   "id": "da0dd32f",
   "metadata": {},
   "outputs": [],
   "source": []
  },
  {
   "cell_type": "code",
   "execution_count": null,
   "id": "2b1f6411",
   "metadata": {},
   "outputs": [],
   "source": []
  }
 ],
 "metadata": {
  "kernelspec": {
   "display_name": "Python 3",
   "language": "python",
   "name": "python3"
  },
  "language_info": {
   "codemirror_mode": {
    "name": "ipython",
    "version": 3
   },
   "file_extension": ".py",
   "mimetype": "text/x-python",
   "name": "python",
   "nbconvert_exporter": "python",
   "pygments_lexer": "ipython3",
   "version": "3.8.8"
  }
 },
 "nbformat": 4,
 "nbformat_minor": 5
}
